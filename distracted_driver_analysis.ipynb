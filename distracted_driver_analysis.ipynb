{
 "cells": [
  {
   "cell_type": "code",
   "execution_count": 1,
   "metadata": {
    "_cell_guid": "b1076dfc-b9ad-4769-8c92-a6c4dae69d19",
    "_uuid": "8f2839f25d086af736a60e9eeb907d3b93b6e0e5",
    "execution": {
     "iopub.execute_input": "2021-02-07T04:49:47.506289Z",
     "iopub.status.busy": "2021-02-07T04:49:47.505326Z",
     "iopub.status.idle": "2021-02-07T04:49:47.508649Z",
     "shell.execute_reply": "2021-02-07T04:49:47.507864Z"
    },
    "papermill": {
     "duration": 0.022666,
     "end_time": "2021-02-07T04:49:47.508869",
     "exception": false,
     "start_time": "2021-02-07T04:49:47.486203",
     "status": "completed"
    },
    "tags": []
   },
   "outputs": [],
   "source": [
    "import numpy as np # linear algebra\n",
    "import pandas as pd # data processing, CSV file I/O (e.g. pd.read_csv)\n",
    "import os"
   ]
  },
  {
   "cell_type": "code",
   "execution_count": null,
   "metadata": {},
   "outputs": [],
   "source": [
    "#os for joining path of file"
   ]
  },
  {
   "cell_type": "markdown",
   "metadata": {},
   "source": [
    "## cv2  is reading images files and convert it to array \n",
    "## glob is used for selecting path using regex\n",
    "here we have created two list onr for images and other of lables \n",
    "#### we are looping in img floder for train data and reading path using glob and converting it to array using cv2 \n",
    "and storing data in both list "
   ]
  },
  {
   "cell_type": "code",
   "execution_count": 2,
   "metadata": {
    "execution": {
     "iopub.execute_input": "2021-02-07T04:49:47.542106Z",
     "iopub.status.busy": "2021-02-07T04:49:47.541380Z",
     "iopub.status.idle": "2021-02-07T04:54:31.196700Z",
     "shell.execute_reply": "2021-02-07T04:54:31.195682Z"
    },
    "papermill": {
     "duration": 283.675307,
     "end_time": "2021-02-07T04:54:31.196853",
     "exception": false,
     "start_time": "2021-02-07T04:49:47.521546",
     "status": "completed"
    },
    "tags": []
   },
   "outputs": [
    {
     "name": "stdout",
     "output_type": "stream",
     "text": [
      "Loading directory c0\n",
      "Loading directory c1\n",
      "Loading directory c2\n",
      "Loading directory c3\n",
      "Loading directory c4\n",
      "Loading directory c5\n",
      "Loading directory c6\n",
      "Loading directory c7\n",
      "Loading directory c8\n",
      "Loading directory c9\n",
      "22424\n"
     ]
    },
    {
     "data": {
      "text/html": [
       "<div>\n",
       "<style scoped>\n",
       "    .dataframe tbody tr th:only-of-type {\n",
       "        vertical-align: middle;\n",
       "    }\n",
       "\n",
       "    .dataframe tbody tr th {\n",
       "        vertical-align: top;\n",
       "    }\n",
       "\n",
       "    .dataframe thead th {\n",
       "        text-align: right;\n",
       "    }\n",
       "</style>\n",
       "<table border=\"1\" class=\"dataframe\">\n",
       "  <thead>\n",
       "    <tr style=\"text-align: right;\">\n",
       "      <th></th>\n",
       "      <th>subject</th>\n",
       "      <th>classname</th>\n",
       "      <th>img</th>\n",
       "    </tr>\n",
       "  </thead>\n",
       "  <tbody>\n",
       "    <tr>\n",
       "      <th>0</th>\n",
       "      <td>p002</td>\n",
       "      <td>c0</td>\n",
       "      <td>img_44733.jpg</td>\n",
       "    </tr>\n",
       "    <tr>\n",
       "      <th>1</th>\n",
       "      <td>p002</td>\n",
       "      <td>c0</td>\n",
       "      <td>img_72999.jpg</td>\n",
       "    </tr>\n",
       "    <tr>\n",
       "      <th>2</th>\n",
       "      <td>p002</td>\n",
       "      <td>c0</td>\n",
       "      <td>img_25094.jpg</td>\n",
       "    </tr>\n",
       "    <tr>\n",
       "      <th>3</th>\n",
       "      <td>p002</td>\n",
       "      <td>c0</td>\n",
       "      <td>img_69092.jpg</td>\n",
       "    </tr>\n",
       "    <tr>\n",
       "      <th>4</th>\n",
       "      <td>p002</td>\n",
       "      <td>c0</td>\n",
       "      <td>img_92629.jpg</td>\n",
       "    </tr>\n",
       "    <tr>\n",
       "      <th>...</th>\n",
       "      <td>...</td>\n",
       "      <td>...</td>\n",
       "      <td>...</td>\n",
       "    </tr>\n",
       "    <tr>\n",
       "      <th>22419</th>\n",
       "      <td>p081</td>\n",
       "      <td>c9</td>\n",
       "      <td>img_56936.jpg</td>\n",
       "    </tr>\n",
       "    <tr>\n",
       "      <th>22420</th>\n",
       "      <td>p081</td>\n",
       "      <td>c9</td>\n",
       "      <td>img_46218.jpg</td>\n",
       "    </tr>\n",
       "    <tr>\n",
       "      <th>22421</th>\n",
       "      <td>p081</td>\n",
       "      <td>c9</td>\n",
       "      <td>img_25946.jpg</td>\n",
       "    </tr>\n",
       "    <tr>\n",
       "      <th>22422</th>\n",
       "      <td>p081</td>\n",
       "      <td>c9</td>\n",
       "      <td>img_67850.jpg</td>\n",
       "    </tr>\n",
       "    <tr>\n",
       "      <th>22423</th>\n",
       "      <td>p081</td>\n",
       "      <td>c9</td>\n",
       "      <td>img_9684.jpg</td>\n",
       "    </tr>\n",
       "  </tbody>\n",
       "</table>\n",
       "<p>22424 rows × 3 columns</p>\n",
       "</div>"
      ],
      "text/plain": [
       "      subject classname            img\n",
       "0        p002        c0  img_44733.jpg\n",
       "1        p002        c0  img_72999.jpg\n",
       "2        p002        c0  img_25094.jpg\n",
       "3        p002        c0  img_69092.jpg\n",
       "4        p002        c0  img_92629.jpg\n",
       "...       ...       ...            ...\n",
       "22419    p081        c9  img_56936.jpg\n",
       "22420    p081        c9  img_46218.jpg\n",
       "22421    p081        c9  img_25946.jpg\n",
       "22422    p081        c9  img_67850.jpg\n",
       "22423    p081        c9   img_9684.jpg\n",
       "\n",
       "[22424 rows x 3 columns]"
      ]
     },
     "execution_count": 2,
     "metadata": {},
     "output_type": "execute_result"
    }
   ],
   "source": [
    "#Load Images\n",
    "import cv2\n",
    "from glob import glob\n",
    "def load_images():\n",
    "    train_images = [] \n",
    "    train_labels = []\n",
    "    # Loop over the training folder \n",
    "    for classed in range(10):\n",
    "        print('Loading directory c{}'.format(classed))\n",
    "        files = glob(os.path.join('Downloads','state-farm-distracted-driver-detection','imgs', 'train', 'c' + str(classed), '*.jpg'))\n",
    "        for file in files:\n",
    "            img = cv2.imread(file)\n",
    "            train_images.append(cv2.resize(img, (225,225)))\n",
    "            train_labels.append(classed)  \n",
    "    print(len(train_images))        \n",
    "    return train_images, train_labels \n",
    "\n",
    "\n",
    "images, labels = load_images()\n",
    "\n",
    "#Load data file\n",
    "data_file = pd.read_csv(\"driver_imgs_list.csv\")\n",
    "data_file"
   ]
  },
  {
   "cell_type": "markdown",
   "metadata": {},
   "source": [
    "## Here general we are spliting data in train_test_split\n",
    "### and one hotencoding with labels"
   ]
  },
  {
   "cell_type": "code",
   "execution_count": 3,
   "metadata": {
    "execution": {
     "iopub.execute_input": "2021-02-07T04:54:31.239690Z",
     "iopub.status.busy": "2021-02-07T04:54:31.238908Z",
     "iopub.status.idle": "2021-02-07T04:54:39.654605Z",
     "shell.execute_reply": "2021-02-07T04:54:39.655119Z"
    },
    "papermill": {
     "duration": 8.440117,
     "end_time": "2021-02-07T04:54:39.655300",
     "exception": false,
     "start_time": "2021-02-07T04:54:31.215183",
     "status": "completed"
    },
    "tags": []
   },
   "outputs": [
    {
     "name": "stdout",
     "output_type": "stream",
     "text": [
      "(16818, 225, 225, 3) (16818, 10)\n"
     ]
    }
   ],
   "source": [
    "from sklearn.model_selection import train_test_split\n",
    "import tensorflow as tf\n",
    "\n",
    "x_train, x_test, y_train, y_test =  train_test_split(images,labels, test_size = 0.25)\n",
    "y_train = tf.keras.utils.to_categorical(y_train, num_classes=10)\n",
    "y_test = tf.keras.utils.to_categorical(y_test, num_classes=10)\n",
    "\n",
    "x_train, y_train = np.asarray(x_train), np.asarray(y_train)\n",
    "x_test, y_test = np.asarray(x_test), np.asarray(y_test)\n",
    "print(x_train.shape, y_train.shape)"
   ]
  },
  {
   "cell_type": "code",
   "execution_count": null,
   "metadata": {
    "papermill": {
     "duration": 0.023805,
     "end_time": "2021-02-07T04:54:39.696627",
     "exception": false,
     "start_time": "2021-02-07T04:54:39.672822",
     "status": "completed"
    },
    "tags": []
   },
   "outputs": [],
   "source": []
  },
  {
   "cell_type": "markdown",
   "metadata": {
    "papermill": {
     "duration": 0.016858,
     "end_time": "2021-02-07T04:54:39.730342",
     "exception": false,
     "start_time": "2021-02-07T04:54:39.713484",
     "status": "completed"
    },
    "tags": []
   },
   "source": [
    "# Exploring the dataset"
   ]
  },
  {
   "cell_type": "code",
   "execution_count": 4,
   "metadata": {
    "execution": {
     "iopub.execute_input": "2021-02-07T04:54:39.773723Z",
     "iopub.status.busy": "2021-02-07T04:54:39.772656Z",
     "iopub.status.idle": "2021-02-07T04:54:39.789170Z",
     "shell.execute_reply": "2021-02-07T04:54:39.788411Z"
    },
    "papermill": {
     "duration": 0.04154,
     "end_time": "2021-02-07T04:54:39.789412",
     "exception": false,
     "start_time": "2021-02-07T04:54:39.747872",
     "status": "completed"
    },
    "tags": []
   },
   "outputs": [
    {
     "name": "stdout",
     "output_type": "stream",
     "text": [
      "Unique drivers:  26\n",
      "Number of images per driver\n",
      "p021    1237\n",
      "p022    1233\n",
      "p024    1226\n",
      "p026    1196\n",
      "p016    1078\n",
      "p066    1034\n",
      "p049    1011\n",
      "p051     920\n",
      "p014     876\n",
      "p015     875\n",
      "p035     848\n",
      "p047     835\n",
      "p012     823\n",
      "p081     823\n",
      "p064     820\n",
      "p075     814\n",
      "p061     809\n",
      "p056     794\n",
      "p050     790\n",
      "p052     740\n",
      "p002     725\n",
      "p045     724\n",
      "p039     651\n",
      "p041     605\n",
      "p042     591\n",
      "p072     346\n",
      "Name: subject, dtype: int64\n"
     ]
    }
   ],
   "source": [
    "print('Unique drivers: ', data_file['subject'].nunique())\n",
    "print('Number of images per driver')\n",
    "print(data_file['subject'].value_counts())"
   ]
  },
  {
   "cell_type": "code",
   "execution_count": 5,
   "metadata": {
    "execution": {
     "iopub.execute_input": "2021-02-07T04:54:39.832624Z",
     "iopub.status.busy": "2021-02-07T04:54:39.831916Z",
     "iopub.status.idle": "2021-02-07T04:54:40.078614Z",
     "shell.execute_reply": "2021-02-07T04:54:40.079398Z"
    },
    "papermill": {
     "duration": 0.271815,
     "end_time": "2021-02-07T04:54:40.079676",
     "exception": false,
     "start_time": "2021-02-07T04:54:39.807861",
     "status": "completed"
    },
    "tags": []
   },
   "outputs": [
    {
     "data": {
      "image/png": "[encoded data removed]",
      "text/plain": [
       "<Figure size 432x288 with 1 Axes>"
      ]
     },
     "metadata": {
      "needs_background": "light"
     },
     "output_type": "display_data"
    },
    {
     "name": "stdout",
     "output_type": "stream",
     "text": [
      "[0. 0. 0. 0. 0. 0. 1. 0. 0. 0.]\n"
     ]
    }
   ],
   "source": [
    "import matplotlib.pyplot as plt\n",
    "plt.imshow(cv2.cvtColor(x_train[1000], cv2.COLOR_BGR2RGB))\n",
    "plt.show()\n",
    "print(y_train[1000])"
   ]
  },
  {
   "cell_type": "code",
   "execution_count": null,
   "metadata": {},
   "outputs": [],
   "source": [
    "## implementing CNN model for Image processing"
   ]
  },
  {
   "cell_type": "markdown",
   "metadata": {
    "papermill": {
     "duration": 0.021774,
     "end_time": "2021-02-07T04:54:40.123189",
     "exception": false,
     "start_time": "2021-02-07T04:54:40.101415",
     "status": "completed"
    },
    "tags": []
   },
   "source": [
    "# CNN Model"
   ]
  },
  {
   "cell_type": "markdown",
   "metadata": {},
   "source": [
    "#### here we have 3 layer (first input 2 hidden layer)\n",
    "## activation function is used is elu, model is used is Sequential"
   ]
  },
  {
   "cell_type": "code",
   "execution_count": 6,
   "metadata": {
    "execution": {
     "iopub.execute_input": "2021-02-07T04:54:40.180941Z",
     "iopub.status.busy": "2021-02-07T04:54:40.180199Z",
     "iopub.status.idle": "2021-02-07T04:54:43.852912Z",
     "shell.execute_reply": "2021-02-07T04:54:43.851991Z"
    },
    "papermill": {
     "duration": 3.7076,
     "end_time": "2021-02-07T04:54:43.853061",
     "exception": false,
     "start_time": "2021-02-07T04:54:40.145461",
     "status": "completed"
    },
    "tags": []
   },
   "outputs": [],
   "source": [
    "from keras.utils import to_categorical\n",
    "from keras.models import Sequential\n",
    "from keras.layers import *\n",
    "from keras.optimizers import RMSprop\n",
    "import keras\n",
    "from keras.callbacks import EarlyStopping\n",
    "\n",
    "\n",
    "model = Sequential()\n",
    "\n",
    "\n",
    "size = 16\n",
    "#starting size with 32\n",
    "model.add(Conv2D(size*2, (3, 3), padding='same', input_shape=(225,225,3)))\n",
    "model.add(Activation('elu'))\n",
    "model.add(Conv2D(size*2, (3, 3)))\n",
    "model.add(Activation('elu'))\n",
    "model.add(MaxPooling2D(pool_size=(2, 2)))\n",
    "model.add(Dropout(0.25))\n",
    "\n",
    "#starting size with 32*2 = 64\n",
    "\n",
    "model.add(Conv2D(size*4, (3, 3), padding='same'))\n",
    "model.add(Activation('elu'))\n",
    "model.add(Conv2D(size*4, (3, 3)))\n",
    "model.add(Activation('elu'))\n",
    "model.add(MaxPooling2D(pool_size=(2, 2)))\n",
    "model.add(Dropout(0.25))\n",
    "\n",
    "#starting size with 32*2*4 = 128\n",
    "\n",
    "model.add(Conv2D(size*8, (3, 3), padding='same'))\n",
    "model.add(Activation('elu'))\n",
    "model.add(Conv2D(size*8, (3, 3)))\n",
    "model.add(Activation('elu'))\n",
    "model.add(MaxPooling2D(pool_size=(2, 2)))\n",
    "model.add(Dropout(0.25))\n",
    "\n",
    "\n",
    "model.add(Flatten())\n",
    "model.add(Dense(size*16))\n",
    "model.add(Activation('elu'))\n",
    "model.add(Dropout(0.5))\n",
    "model.add(Dense(10))\n",
    "model.add(Activation('softmax'))#softmax is used to get maximun value in a row\n",
    "\n",
    "# initiate RMSprop optimizer\n",
    "opt = keras.optimizers.RMSprop(lr=0.0001, decay=1e-6)\n",
    "\n",
    "# Let's train the model using RMSprop\n",
    "model.compile(loss='categorical_crossentropy',\n",
    "              optimizer=opt,\n",
    "              metrics=['accuracy'])\n"
   ]
  },
  {
   "cell_type": "code",
   "execution_count": 7,
   "metadata": {
    "execution": {
     "iopub.execute_input": "2021-02-07T04:54:43.905855Z",
     "iopub.status.busy": "2021-02-07T04:54:43.901503Z",
     "iopub.status.idle": "2021-02-07T04:54:43.916716Z",
     "shell.execute_reply": "2021-02-07T04:54:43.915638Z"
    },
    "papermill": {
     "duration": 0.042408,
     "end_time": "2021-02-07T04:54:43.916840",
     "exception": false,
     "start_time": "2021-02-07T04:54:43.874432",
     "status": "completed"
    },
    "tags": []
   },
   "outputs": [
    {
     "name": "stdout",
     "output_type": "stream",
     "text": [
      "Model: \"sequential\"\n",
      "_________________________________________________________________\n",
      "Layer (type)                 Output Shape              Param #   \n",
      "=================================================================\n",
      "conv2d (Conv2D)              (None, 225, 225, 32)      896       \n",
      "_________________________________________________________________\n",
      "activation (Activation)      (None, 225, 225, 32)      0         \n",
      "_________________________________________________________________\n",
      "conv2d_1 (Conv2D)            (None, 223, 223, 32)      9248      \n",
      "_________________________________________________________________\n",
      "activation_1 (Activation)    (None, 223, 223, 32)      0         \n",
      "_________________________________________________________________\n",
      "max_pooling2d (MaxPooling2D) (None, 111, 111, 32)      0         \n",
      "_________________________________________________________________\n",
      "dropout (Dropout)            (None, 111, 111, 32)      0         \n",
      "_________________________________________________________________\n",
      "conv2d_2 (Conv2D)            (None, 111, 111, 64)      18496     \n",
      "_________________________________________________________________\n",
      "activation_2 (Activation)    (None, 111, 111, 64)      0         \n",
      "_________________________________________________________________\n",
      "conv2d_3 (Conv2D)            (None, 109, 109, 64)      36928     \n",
      "_________________________________________________________________\n",
      "activation_3 (Activation)    (None, 109, 109, 64)      0         \n",
      "_________________________________________________________________\n",
      "max_pooling2d_1 (MaxPooling2 (None, 54, 54, 64)        0         \n",
      "_________________________________________________________________\n",
      "dropout_1 (Dropout)          (None, 54, 54, 64)        0         \n",
      "_________________________________________________________________\n",
      "conv2d_4 (Conv2D)            (None, 54, 54, 128)       73856     \n",
      "_________________________________________________________________\n",
      "activation_4 (Activation)    (None, 54, 54, 128)       0         \n",
      "_________________________________________________________________\n",
      "conv2d_5 (Conv2D)            (None, 52, 52, 128)       147584    \n",
      "_________________________________________________________________\n",
      "activation_5 (Activation)    (None, 52, 52, 128)       0         \n",
      "_________________________________________________________________\n",
      "max_pooling2d_2 (MaxPooling2 (None, 26, 26, 128)       0         \n",
      "_________________________________________________________________\n",
      "dropout_2 (Dropout)          (None, 26, 26, 128)       0         \n",
      "_________________________________________________________________\n",
      "flatten (Flatten)            (None, 86528)             0         \n",
      "_________________________________________________________________\n",
      "dense (Dense)                (None, 256)               22151424  \n",
      "_________________________________________________________________\n",
      "activation_6 (Activation)    (None, 256)               0         \n",
      "_________________________________________________________________\n",
      "dropout_3 (Dropout)          (None, 256)               0         \n",
      "_________________________________________________________________\n",
      "dense_1 (Dense)              (None, 10)                2570      \n",
      "_________________________________________________________________\n",
      "activation_7 (Activation)    (None, 10)                0         \n",
      "=================================================================\n",
      "Total params: 22,441,002\n",
      "Trainable params: 22,441,002\n",
      "Non-trainable params: 0\n",
      "_________________________________________________________________\n"
     ]
    }
   ],
   "source": [
    "model.summary()\n",
    "#these will print summary of the model"
   ]
  },
  {
   "cell_type": "code",
   "execution_count": null,
   "metadata": {},
   "outputs": [],
   "source": [
    "## we can see that total number of parameter to be traioned is 22,441,002"
   ]
  },
  {
   "cell_type": "code",
   "execution_count": null,
   "metadata": {
    "execution": {
     "iopub.execute_input": "2021-02-07T04:54:43.964868Z",
     "iopub.status.busy": "2021-02-07T04:54:43.964183Z",
     "iopub.status.idle": "2021-02-07T04:59:34.553865Z",
     "shell.execute_reply": "2021-02-07T04:59:34.554533Z"
    },
    "papermill": {
     "duration": 290.616226,
     "end_time": "2021-02-07T04:59:34.554755",
     "exception": false,
     "start_time": "2021-02-07T04:54:43.938529",
     "status": "completed"
    },
    "tags": []
   },
   "outputs": [
    {
     "name": "stdout",
     "output_type": "stream",
     "text": [
      "Epoch 1/20\n",
      " 14/673 [..............................] - ETA: 1:04:29 - loss: 108.7183 - accuracy: 0.0938"
     ]
    }
   ],
   "source": [
    "history = model.fit(x_train, y_train, \n",
    "          validation_data=(x_test, y_test),\n",
    "          epochs=20, batch_size=25, callbacks = EarlyStopping(monitor='val_loss', mode='min', patience=2))\n",
    "\n",
    "## fitting data"
   ]
  },
  {
   "cell_type": "code",
   "execution_count": null,
   "metadata": {
    "execution": {
     "iopub.execute_input": "2021-02-07T04:59:40.756983Z",
     "iopub.status.busy": "2021-02-07T04:59:40.756083Z",
     "iopub.status.idle": "2021-02-07T04:59:41.248220Z",
     "shell.execute_reply": "2021-02-07T04:59:41.247604Z"
    },
    "papermill": {
     "duration": 1.986102,
     "end_time": "2021-02-07T04:59:41.248380",
     "exception": false,
     "start_time": "2021-02-07T04:59:39.262278",
     "status": "completed"
    },
    "tags": []
   },
   "outputs": [],
   "source": [
    "from matplotlib import pyplot as plt\n",
    "plt.figure(figsize=(8,8))\n",
    "plt.subplot(211)\n",
    "plt.title('Cross Entropy Loss')\n",
    "plt.plot(history.history['loss'], color='blue', label='train')\n",
    "plt.plot(history.history['val_loss'], color='orange', label='test')\n",
    "# plot accuracy\n",
    "plt.subplot(212)\n",
    "plt.title('Classification Accuracy')\n",
    "plt.plot(history.history['accuracy'], color='blue', label='train')\n",
    "plt.plot(history.history['val_accuracy'], color='orange', label='test')"
   ]
  },
  {
   "cell_type": "code",
   "execution_count": null,
   "metadata": {
    "execution": {
     "iopub.execute_input": "2021-02-07T04:59:44.646530Z",
     "iopub.status.busy": "2021-02-07T04:59:44.644731Z",
     "iopub.status.idle": "2021-02-07T04:59:49.811284Z",
     "shell.execute_reply": "2021-02-07T04:59:49.810619Z"
    },
    "papermill": {
     "duration": 7.017377,
     "end_time": "2021-02-07T04:59:49.811510",
     "exception": false,
     "start_time": "2021-02-07T04:59:42.794133",
     "status": "completed"
    },
    "tags": []
   },
   "outputs": [],
   "source": [
    "_, acc = model.evaluate(x_test, y_test, verbose=10)\n",
    "print(acc)"
   ]
  },
  {
   "cell_type": "markdown",
   "metadata": {
    "execution": {
     "iopub.execute_input": "2021-02-07T04:59:52.680637Z",
     "iopub.status.busy": "2021-02-07T04:59:52.679652Z",
     "iopub.status.idle": "2021-02-07T04:59:52.682259Z",
     "shell.execute_reply": "2021-02-07T04:59:52.681631Z"
    },
    "papermill": {
     "duration": 1.4356,
     "end_time": "2021-02-07T04:59:52.682390",
     "exception": false,
     "start_time": "2021-02-07T04:59:51.246790",
     "status": "completed"
    },
    "tags": []
   },
   "source": [
    "\n",
    "## accuracy of our model is 0.9894755482673645"
   ]
  },
  {
   "cell_type": "code",
   "execution_count": null,
   "metadata": {
    "execution": {
     "iopub.execute_input": "2021-02-07T04:59:55.811834Z",
     "iopub.status.busy": "2021-02-07T04:59:55.810101Z",
     "iopub.status.idle": "2021-02-07T04:59:55.812544Z",
     "shell.execute_reply": "2021-02-07T04:59:55.813048Z"
    },
    "papermill": {
     "duration": 1.684645,
     "end_time": "2021-02-07T04:59:55.813202",
     "exception": false,
     "start_time": "2021-02-07T04:59:54.128557",
     "status": "completed"
    },
    "tags": []
   },
   "outputs": [],
   "source": []
  },
  {
   "cell_type": "code",
   "execution_count": null,
   "metadata": {
    "papermill": {
     "duration": 1.473139,
     "end_time": "2021-02-07T04:59:58.715700",
     "exception": false,
     "start_time": "2021-02-07T04:59:57.242561",
     "status": "completed"
    },
    "tags": []
   },
   "outputs": [],
   "source": []
  }
 ],
 "metadata": {
  "kernelspec": {
   "display_name": "Python 3",
   "language": "python",
   "name": "python3"
  },
  "language_info": {
   "codemirror_mode": {
    "name": "ipython",
    "version": 3
   },
   "file_extension": ".py",
   "mimetype": "text/x-python",
   "name": "python",
   "nbconvert_exporter": "python",
   "pygments_lexer": "ipython3",
   "version": "3.8.5"
  },
  "papermill": {
   "default_parameters": {},
   "duration": 622.250839,
   "end_time": "2021-02-07T05:00:03.567862",
   "environment_variables": {},
   "exception": null,
   "input_path": "__notebook__.ipynb",
   "output_path": "__notebook__.ipynb",
   "parameters": {},
   "start_time": "2021-02-07T04:49:41.317023",
   "version": "2.2.2"
  }
 },
 "nbformat": 4,
 "nbformat_minor": 4
}
